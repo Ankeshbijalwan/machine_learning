{
 "cells": [
  {
   "cell_type": "code",
   "execution_count": 380,
   "metadata": {},
   "outputs": [],
   "source": [
    "import scipy.io as sio\n",
    "import pandas as pd\n",
    "import seaborn as sns\n",
    "import numpy as np\n",
    "import matplotlib.pyplot as plt\n",
    "data=sio.loadmat('C:\\\\Users\\\\Ankesh\\\\Desktop\\\\DS\\\\ML COURSEERA\\\\EXEECISE\\\\machine-learning-ex\\\\machine-learning-ex8\\\\ex8\\\\ex8data1.mat')"
   ]
  },
  {
   "cell_type": "code",
   "execution_count": 381,
   "metadata": {},
   "outputs": [],
   "source": [
    "data['X']\n",
    "d_train=pd.DataFrame(data['X'],columns=['x1','x2'])\n",
    "Xval=pd.DataFrame(data['Xval'],columns=['Xval1','Xval2'])\n",
    "yval=pd.DataFrame(data['yval'],columns=['yval'])\n",
    "d_test=pd.concat([Xval,yval],axis=1)\n",
    "m=(d_train.shape)[0]\n",
    "yval=np.array(yval[:]['yval'])"
   ]
  },
  {
   "cell_type": "code",
   "execution_count": 382,
   "metadata": {},
   "outputs": [
    {
     "data": {
      "text/plain": [
       "<matplotlib.axes._subplots.AxesSubplot at 0x1c803693b48>"
      ]
     },
     "execution_count": 382,
     "metadata": {},
     "output_type": "execute_result"
    },
    {
     "data": {
      "image/png": "[encoded data removed]",
      "text/plain": [
       "<Figure size 432x288 with 1 Axes>"
      ]
     },
     "metadata": {
      "needs_background": "light"
     },
     "output_type": "display_data"
    }
   ],
   "source": [
    "sns.distplot(d_train['x1'])\n",
    "sns.distplot(d_train['x2'])"
   ]
  },
  {
   "cell_type": "code",
   "execution_count": 383,
   "metadata": {},
   "outputs": [
    {
     "name": "stdout",
     "output_type": "stream",
     "text": [
      "mean=x1    14.112226\n",
      "x2    14.997711\n",
      "dtype: float64\n",
      " ,variance=x1    1.832631\n",
      "x2    1.709745\n",
      "dtype: float64 \n",
      "\n"
     ]
    }
   ],
   "source": [
    "#find parameters mean and  variance using training data\n",
    "mu=(d_train.sum())/m\n",
    "sigma2=(np.var(d_train))\n",
    "print('mean={}\\n ,variance={} \\n'.format(mu,sigma2))\n",
    "from scipy.stats import multivariate_normal\n",
    "'''In probability theory, a probability density function, or density of a continuous\n",
    "random variable, is a function whose value at any given sample in the sample space can be interpreted as providing \n",
    "a relative likelihood that the value of the random variable would equal that sample'''\n",
    "pval = multivariate_normal.pdf(Xval, mean=mu, cov=sigma2)"
   ]
  },
  {
   "cell_type": "code",
   "execution_count": 384,
   "metadata": {},
   "outputs": [
    {
     "name": "stderr",
     "output_type": "stream",
     "text": [
      "C:\\Users\\Ankesh\\anaconda3\\lib\\site-packages\\ipykernel_launcher.py:10: RuntimeWarning: invalid value encountered in long_scalars\n",
      "  # Remove the CWD from sys.path while we load stuff.\n"
     ]
    }
   ],
   "source": [
    "bestEpsilon = 0\n",
    "bestF1 = 0\n",
    "F1 = 0\n",
    "stepsize = (max(pval) - min(pval)) / 1000\n",
    "for epsilon in np.arange (min(pval),max(pval),stepsize):\n",
    "    predictions = (pval < epsilon)\n",
    "    fp = sum((predictions == 1) & (yval==0))\n",
    "    fn = sum((predictions == 0) & (yval == 1))\n",
    "    tp = sum((predictions == 1) & (yval == 1))\n",
    "    prec = tp / (tp + fp)\n",
    "    rec = tp / (tp + fn)\n",
    "    F1 = 2 * prec * rec / (prec + rec)\n",
    "    if F1 > bestF1:\n",
    "        bestF1 = F1\n",
    "        bestEpsilon = epsilon"
   ]
  },
  {
   "cell_type": "code",
   "execution_count": 385,
   "metadata": {},
   "outputs": [
    {
     "name": "stdout",
     "output_type": "stream",
     "text": [
      "best F1 0.8750000000000001\n",
      "epsion 8.990852779269493e-05\n",
      "(array([300, 301, 302, 303, 304, 305, 306], dtype=int64),)\n"
     ]
    }
   ],
   "source": [
    "print('best F1',bestF1)\n",
    "print('epsion',bestEpsilon)\n",
    "epsilon=bestEpsilon\n",
    "outliers = np.where(pval<epsilon)\n",
    "print(outliers)"
   ]
  },
  {
   "cell_type": "code",
   "execution_count": 386,
   "metadata": {},
   "outputs": [
    {
     "data": {
      "text/plain": [
       "<seaborn.axisgrid.JointGrid at 0x1c8037de708>"
      ]
     },
     "execution_count": 386,
     "metadata": {},
     "output_type": "execute_result"
    },
    {
     "data": {
      "image/png": "[encoded data removed]",
      "text/plain": [
       "<Figure size 432x432 with 3 Axes>"
      ]
     },
     "metadata": {
      "needs_background": "light"
     },
     "output_type": "display_data"
    }
   ],
   "source": [
    "sns.jointplot(x='Xval1',y='Xval2',data=Xval.iloc[outliers])"
   ]
  },
  {
   "cell_type": "code",
   "execution_count": null,
   "metadata": {},
   "outputs": [],
   "source": []
  }
 ],
 "metadata": {
  "kernelspec": {
   "display_name": "Python 3",
   "language": "python",
   "name": "python3"
  },
  "language_info": {
   "codemirror_mode": {
    "name": "ipython",
    "version": 3
   },
   "file_extension": ".py",
   "mimetype": "text/x-python",
   "name": "python",
   "nbconvert_exporter": "python",
   "pygments_lexer": "ipython3",
   "version": "3.7.6"
  }
 },
 "nbformat": 4,
 "nbformat_minor": 4
}
